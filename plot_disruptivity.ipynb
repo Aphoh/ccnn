{
 "cells": [
  {
   "cell_type": "code",
   "execution_count": null,
   "metadata": {},
   "outputs": [],
   "source": [
    "from datamodules import LucasDataModule\n",
    "import model_constructor\n",
    "import models\n",
    "from models.lightning_wrappers import ClassificationWrapper\n",
    "import torch\n",
    "from omegaconf import OmegaConf\n",
    "import torchmetrics\n",
    "import numpy as np\n",
    "import matplotlib.pyplot as plt\n",
    "import copy\n",
    "import importlib\n",
    "import models.resnet\n",
    "importlib.reload(models.resnet)\n",
    "importlib.reload(model_constructor)\n",
    "importlib.reload(models);\n",
    "%matplotlib widget"
   ]
  },
  {
   "cell_type": "code",
   "execution_count": null,
   "metadata": {},
   "outputs": [],
   "source": [
    "model_dict = torch.load(\"./artifacts/model-0genvn31:best/model.ckpt\", map_location=torch.device(\"cpu\"))\n",
    "model_dict.keys()"
   ]
  },
  {
   "cell_type": "code",
   "execution_count": null,
   "metadata": {},
   "outputs": [],
   "source": [
    "ojb = LucasDataModule(data_dir=\"data\", pin_memory=False, end_cutoff_timesteps=8, data_type=\"sequence\")"
   ]
  },
  {
   "cell_type": "code",
   "execution_count": null,
   "metadata": {},
   "outputs": [],
   "source": [
    "ojb.prepare_data(); ojb.setup()"
   ]
  },
  {
   "attachments": {},
   "cell_type": "markdown",
   "metadata": {},
   "source": []
  },
  {
   "cell_type": "code",
   "execution_count": null,
   "metadata": {},
   "outputs": [],
   "source": [
    "cfg = OmegaConf.load(\"cfg/config.yaml\")\n",
    "cfg.device = \"cpu\"\n",
    "cfg.dataset.data_type = \"sequence\"\n",
    "network = model_constructor.construct_model(cfg, ojb)\n",
    "network.load_state_dict(model_dict[\"state_dict\"])\n",
    "network.eval();"
   ]
  },
  {
   "cell_type": "code",
   "execution_count": null,
   "metadata": {},
   "outputs": [],
   "source": [
    "x, y, lens = next(iter(ojb.val_dataloader()))\n",
    "ind = None\n",
    "for i, yi in enumerate(y):\n",
    "    if yi == 1:\n",
    "        ind = i\n",
    "        break\n",
    "y[ind], x[ind].shape, lens[ind]"
   ]
  },
  {
   "cell_type": "code",
   "execution_count": null,
   "metadata": {},
   "outputs": [],
   "source": [
    "x[ind].unsqueeze(0).shape"
   ]
  },
  {
   "cell_type": "code",
   "execution_count": null,
   "metadata": {},
   "outputs": [],
   "source": [
    "sample_x, sample_y = x[ind].to(\"cpu\"), y[ind]\n",
    "out_y = None\n",
    "resnet = network.network\n",
    "with torch.no_grad():\n",
    "    x_in = (x[ind].unsqueeze(0), torch.tensor([lens[ind]]))\n",
    "    out_y = resnet.forward_unrolled(x_in).squeeze(0, 1)\n",
    "\n",
    "out_y.shape"
   ]
  },
  {
   "cell_type": "code",
   "execution_count": null,
   "metadata": {},
   "outputs": [],
   "source": [
    "sample_len = lens[ind]\n",
    "sample_start = 15\n",
    "plt.plot(np.arange(sample_start, sample_len), out_y.numpy()[sample_start:sample_len])"
   ]
  },
  {
   "cell_type": "code",
   "execution_count": null,
   "metadata": {},
   "outputs": [],
   "source": [
    "outs = resnet.forward_unrolled((x, lens)).detach().squeeze(1)"
   ]
  },
  {
   "cell_type": "code",
   "execution_count": null,
   "metadata": {},
   "outputs": [],
   "source": [
    "plt.clf()\n",
    "for i in range(outs.shape[0]):\n",
    "    s_len = lens[i]\n",
    "    start = outs.shape[-1] - s_len + 15\n",
    "    end = outs.shape[-1]\n",
    "    plt.plot(np.arange(start, end), outs[i].numpy()[15:s_len], c=\"r\" if y[i] == 1 else \"g\")"
   ]
  },
  {
   "cell_type": "code",
   "execution_count": null,
   "metadata": {},
   "outputs": [],
   "source": [
    "plt.show()"
   ]
  },
  {
   "cell_type": "code",
   "execution_count": null,
   "metadata": {},
   "outputs": [],
   "source": []
  }
 ],
 "metadata": {
  "kernelspec": {
   "display_name": "base",
   "language": "python",
   "name": "python3"
  },
  "language_info": {
   "codemirror_mode": {
    "name": "ipython",
    "version": 3
   },
   "file_extension": ".py",
   "mimetype": "text/x-python",
   "name": "python",
   "nbconvert_exporter": "python",
   "pygments_lexer": "ipython3",
   "version": "3.11.2"
  },
  "orig_nbformat": 4
 },
 "nbformat": 4,
 "nbformat_minor": 2
}
